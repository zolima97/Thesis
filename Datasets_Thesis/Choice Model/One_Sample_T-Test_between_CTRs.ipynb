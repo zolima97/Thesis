{
 "cells": [
  {
   "cell_type": "code",
   "execution_count": 15,
   "id": "hindu-handling",
   "metadata": {},
   "outputs": [],
   "source": [
    "import statistics \n",
    "import pandas as pd\n",
    "df = pd.read_csv(\"Ads_CTR_for_comparison.csv\", sep = \";\")\n",
    "users = 16920 \n",
    "conversion = [0.05, 0.13, 0.09, 0.16, 0.11, 0.04, 0.2, 0.08]"
   ]
  },
  {
   "cell_type": "code",
   "execution_count": 16,
   "id": "proper-differential",
   "metadata": {},
   "outputs": [],
   "source": [
    "df_mean = df.mean()\n",
    "df_mean_round = df_mean.round(2)\n",
    "df_mean_round_mean = df_mean_round.mean()\n",
    "df_average = df_mean_round_mean.round(2) "
   ]
  },
  {
   "cell_type": "code",
   "execution_count": 17,
   "id": "informal-winning",
   "metadata": {},
   "outputs": [
    {
     "data": {
      "text/plain": [
       "Ad 1     0.169917\n",
       "Ad 2     0.128783\n",
       "Ad 3     0.073404\n",
       "Ad 4     0.120272\n",
       "Ad 5     0.268558\n",
       "Ad 6     0.012589\n",
       "Ad 7     0.111761\n",
       "Ad 8     0.211170\n",
       "Ad 9     0.095745\n",
       "Ad 10    0.048582\n",
       "dtype: float64"
      ]
     },
     "execution_count": 17,
     "metadata": {},
     "output_type": "execute_result"
    }
   ],
   "source": [
    "df_mean"
   ]
  },
  {
   "cell_type": "code",
   "execution_count": 42,
   "id": "close-average",
   "metadata": {},
   "outputs": [],
   "source": [
    "#average number of impresion for ads\n",
    "avg_impr=users/10\n",
    "df_total=[]\n",
    "for i in df_mean:\n",
    "    df_number = i * avg_impr\n",
    "    df_total.append(df_number)"
   ]
  },
  {
   "cell_type": "code",
   "execution_count": 43,
   "id": "cellular-supplement",
   "metadata": {},
   "outputs": [
    {
     "data": {
      "text/plain": [
       "2099.0"
      ]
     },
     "execution_count": 43,
     "metadata": {},
     "output_type": "execute_result"
    }
   ],
   "source": [
    "df_round= [round(num, 0) for num in df_total]\n",
    "df_round\n",
    "df_sum = sum(df_round)\n",
    "df_sum"
   ]
  },
  {
   "cell_type": "code",
   "execution_count": 44,
   "id": "utility-nature",
   "metadata": {},
   "outputs": [
    {
     "data": {
      "text/plain": [
       "Ad 1     0.17\n",
       "Ad 2     0.13\n",
       "Ad 3     0.07\n",
       "Ad 4     0.12\n",
       "Ad 5     0.27\n",
       "Ad 6     0.01\n",
       "Ad 7     0.11\n",
       "Ad 8     0.21\n",
       "Ad 9     0.10\n",
       "Ad 10    0.05\n",
       "dtype: float64"
      ]
     },
     "execution_count": 44,
     "metadata": {},
     "output_type": "execute_result"
    }
   ],
   "source": [
    "df_mean_round"
   ]
  },
  {
   "cell_type": "code",
   "execution_count": 45,
   "id": "promising-phrase",
   "metadata": {},
   "outputs": [
    {
     "name": "stdout",
     "output_type": "stream",
     "text": [
      "t Statistic:  -0.6493741194318963\n",
      "P Value:  0.536813785861756\n"
     ]
    }
   ],
   "source": [
    "from scipy.stats import ttest_1samp\n",
    "tscore, pvalue = ttest_1samp(conversion, popmean=0.12)\n",
    "print(\"t Statistic: \", tscore)  \n",
    "print(\"P Value: \", pvalue)"
   ]
  },
  {
   "cell_type": "code",
   "execution_count": 46,
   "id": "identified-elite",
   "metadata": {},
   "outputs": [
    {
     "data": {
      "text/plain": [
       "0.268406892930878"
      ]
     },
     "execution_count": 46,
     "metadata": {},
     "output_type": "execute_result"
    }
   ],
   "source": [
    "one_tail = pvalue/2\n",
    "one_tail"
   ]
  },
  {
   "cell_type": "code",
   "execution_count": 59,
   "id": "english-suggestion",
   "metadata": {},
   "outputs": [],
   "source": [
    "#t Statistic:  -0.6493741194318963\n",
    "#P Value:  0.536813785861756\n",
    "#0.268406892930878"
   ]
  },
  {
   "cell_type": "code",
   "execution_count": 56,
   "id": "eligible-jonathan",
   "metadata": {},
   "outputs": [],
   "source": [
    "conversion_for_message = 2115\n",
    "messages= []\n",
    "for i in conversion:\n",
    "    message_number = conversion_for_message * i\n",
    "    messages.append(message_number)"
   ]
  },
  {
   "cell_type": "code",
   "execution_count": 57,
   "id": "inclusive-embassy",
   "metadata": {},
   "outputs": [],
   "source": [
    "#df_round= [round(num, 0) for num in df_total]\n",
    "messages_round = [round(i, 0) for i in messages]"
   ]
  },
  {
   "cell_type": "code",
   "execution_count": 58,
   "id": "boolean-oregon",
   "metadata": {},
   "outputs": [
    {
     "data": {
      "text/plain": [
       "[106.0, 275.0, 190.0, 338.0, 233.0, 85.0, 423.0, 169.0]"
      ]
     },
     "execution_count": 58,
     "metadata": {},
     "output_type": "execute_result"
    }
   ],
   "source": [
    "messages_round "
   ]
  }
 ],
 "metadata": {
  "kernelspec": {
   "display_name": "Python 3",
   "language": "python",
   "name": "python3"
  },
  "language_info": {
   "codemirror_mode": {
    "name": "ipython",
    "version": 3
   },
   "file_extension": ".py",
   "mimetype": "text/x-python",
   "name": "python",
   "nbconvert_exporter": "python",
   "pygments_lexer": "ipython3",
   "version": "3.9.0"
  }
 },
 "nbformat": 4,
 "nbformat_minor": 5
}
